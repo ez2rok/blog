{
  "cells": [
    {
      "cell_type": "markdown",
      "metadata": {},
      "source": [
        "# Post With Code\n",
        "\n",
        "Harlow Malloc  \n",
        "2023-08-17\n",
        "\n",
        "This is a post with executable code.\n",
        "\n",
        "``` python\n",
        "1+1\n",
        "```"
      ],
      "id": "4ba9b3a5-fa81-4137-ba68-33cd90ff77db"
    }
  ],
  "nbformat": 4,
  "nbformat_minor": 5,
  "metadata": {
    "kernelspec": {
      "display_name": "Python 3",
      "language": "python",
      "name": "python3"
    }
  }
}