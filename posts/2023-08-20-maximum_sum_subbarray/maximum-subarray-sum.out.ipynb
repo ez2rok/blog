{
  "cells": [
    {
      "cell_type": "markdown",
      "metadata": {},
      "source": [
        "# Different Perspectives on the The Maximum Sum Subarray Problem\n",
        "\n",
        "\\| [Eitan Turok]()  \n",
        "2023-08-20\n",
        "\n",
        "# Introduction\n",
        "\n",
        "Today, we are going to solve the famous [maximum subarray\n",
        "problem](https://leetcode.com/problems/maximum-subarray/). The problem\n",
        "is stated as:\n",
        "\n",
        "> Given an integer array `nums`, find the contiguous subarray\n",
        "> (containing at least one number) which has the largest sum.\n",
        "\n",
        "This problem is usually solved with Kadane’s algorithm, the for a\n",
        "specific dynamic programming algorithm. However, we can actually solve\n",
        "this problem using a host of different algorithmic techniques:\n",
        "\n",
        "1.  Brute Force\n",
        "2.  Divide and Conquer\n",
        "3.  Dynamic Programming\n",
        "4.  Kadane’s algorithm\n",
        "5.  Sliding Window\n",
        "\n",
        "Most people ignore the most interesting part of the problem: that we can\n",
        "solve it in so many different ways! We just have to change our\n",
        "perspective and all of a sudden we can use a different algorithmic\n",
        "technique."
      ],
      "id": "015b749a-c0f2-482d-b8da-12a9090d8c7a"
    },
    {
      "cell_type": "raw",
      "metadata": {
        "raw_mimetype": "text/html"
      },
      "source": [
        "<figure>"
      ],
      "id": "5417ffe1-210a-46ff-a2ef-f6fc0b3166b3"
    },
    {
      "cell_type": "markdown",
      "metadata": {},
      "source": [
        "<img src=\"perspective.jpeg\" style=\"width:100%\">"
      ],
      "id": "7deac8cf-c326-4fae-aad3-9d73fcfb3d52"
    },
    {
      "cell_type": "raw",
      "metadata": {
        "raw_mimetype": "text/html"
      },
      "source": [
        "<figcaption align=\"center\">"
      ],
      "id": "0618b700-370c-482a-954b-4283a307bbac"
    },
    {
      "cell_type": "markdown",
      "metadata": {},
      "source": [
        "Two different perspectives.\n",
        "[Source.](https://www.lifehack.org/868287/perspective-on-life)"
      ],
      "id": "8448cc20-43ab-4280-9add-d39ed9ed62c3"
    },
    {
      "cell_type": "raw",
      "metadata": {
        "raw_mimetype": "text/html"
      },
      "source": [
        "</figcaption>"
      ],
      "id": "abe1d7c1-b88f-4696-bb91-193d7e4af991"
    },
    {
      "cell_type": "raw",
      "metadata": {
        "raw_mimetype": "text/html"
      },
      "source": [
        "</figure>"
      ],
      "id": "aada65cc-f4df-42f7-821d-4487c7ba8e48"
    },
    {
      "cell_type": "markdown",
      "metadata": {},
      "source": [
        "When reading this article, I want your thought process to be something\n",
        "like:\n",
        "\n",
        "> Cool, we can solve this problem with a divide and conquer approach!\n",
        "> Wait, this problem really can be solved with a dynamic programming\n",
        "> algorithm, interesting. Hold up, it can be solved with the sliding\n",
        "> window technique! No way!\n",
        "\n",
        "We will show how some of these techniques are actually equivalent and\n",
        "are just doing the same thing while having different names. Pretty cool!\n",
        "\n",
        "For each technique, I will explain the idea, give the time/space\n",
        "complexity, and provide a python implementation.\n",
        "\n",
        "# Brute Force\n",
        "\n",
        "**Idea:** Generate all possible subarrays from the original array and\n",
        "find the one that has the greatest sum.\n",
        "\n",
        "**Time Complexity:** $O(n^2)$\n",
        "\n",
        "The two nested for loops call line 6 of the algorithm $n (n+1)/2$ times,\n",
        "meaning we have a runtime of $O(n^2)$.\n",
        "\n",
        "**Space Complexity:** $O(1)$\n",
        "\n",
        "We don’t store anything except for the maximum sum seen so far.\n",
        "\n",
        "**The Algorithm:**"
      ],
      "id": "a8035a6e-84cf-4acf-96bb-6e5583723986"
    },
    {
      "cell_type": "code",
      "execution_count": 23,
      "metadata": {},
      "outputs": [],
      "source": [
        "def max_subarray_brute_force(nums):\n",
        "  \"\"\"Compute the maximum subarray with a brute force technique.\"\"\"\n",
        "\n",
        "  max_sum = -float('inf')\n",
        "  for i in range(len(nums)):\n",
        "    for j in range(i, len(nums)):\n",
        "      new_sum = sum(nums[i: j + 1])\n",
        "      max_sum = max(max_sum, new_sum)\n",
        "  return max_sum"
      ],
      "id": "83d8a2b6-4a77-4614-b82c-dc1244860f69"
    },
    {
      "cell_type": "markdown",
      "metadata": {},
      "source": [
        "**Testing:** Test that this algorithm computes the correct values with\n",
        "the code below.\n",
        "\n",
        "# Divide And Conquer\n",
        "\n",
        "**Idea:** Let the contiguous array that results in the maximum sum be\n",
        "dennoted by `nums[i, ..., j]`. Then if we are looking at the array\n",
        "`nums[low, ..., high]`, we know that the maximum subarray\n",
        "`nums[i, ..., j]` must be located in exactly one of three cases:\n",
        "\n",
        "1.  entirely in the subarray `nums[low, ..., mid]` so that\n",
        "    $low \\leq i \\leq j \\leq mid$\n",
        "2.  entirely in the subarray `nums[mid+1, ..., high]` so that\n",
        "    $mid+1 \\leq i \\leq j \\leq high$\n",
        "3.  crossing the midpoint so that $low \\leq i \\leq mid < j \\leq high$\n",
        "\n",
        "where `mid = (l + r) // 2`.\n",
        "\n",
        "We can find the maximum subarrays of `nums[low, ..., mid]` and\n",
        "`nums[mid+1, ..., high]` recursively because these two problems are\n",
        "smaller instances of the original problem of finding a maximum subarray.\n",
        "However, the problem of finding a maximum subarray that crosses the\n",
        "midpoint is *not* a smaller instance of our orignal problem because it\n",
        "has the added constraint that the subarray it chooses *must* cross the\n",
        "midpoint.\n",
        "\n",
        "So the function `max_crossing_subarray()` will compute the maximum\n",
        "subarray that crosses the midpoint. It works by computing the left sum,\n",
        "the biggest possible sum we can get by starting at `mid` and repeatedly\n",
        "adding the number to the left of `mid`. Similarly, we compute the right\n",
        "sum, the biggest possible sum we can get by starting at `mid` and\n",
        "repeatedly adding the number to the right of `mid`. Then we add the left\n",
        "sum and right sum because together they are the greatest sums formed\n",
        "that must go through `mid`. This function returns the indices\n",
        "demarcating a maximum subarray that crosses the midpoint along with the\n",
        "sum of the values in this maximum subarray.\n",
        "\n",
        "Lastly, `max_subarray_helper()` is a helper function that does most of\n",
        "the work organizing the three cases described above. It also returns the\n",
        "indices demarcating a maximum subarray that crosses the midpoint along\n",
        "with the sum of the values in this maximum subarray.\n",
        "\n",
        "Formally, we can express this as a recurrence relation:\n",
        "\n",
        "where\n",
        "\n",
        "1.  $mid = i + (j - i) // 2$\n",
        "2.  $dp[i][j]$ is the maximum sum found in the subarray in\n",
        "    `nums[i, ..., j]` (inclusive of $i,j$).\n",
        "\n",
        "To compute the maximum subarray sum, simply compute\n",
        "$dp[0][len(nums)-1]$.\n",
        "\n",
        "**Time Complexity:** $O(n log n)$\n",
        "\n",
        "Let $T(n)$ be the runtime of `max_subarray_helper()` on an array of\n",
        "length $n$. `max_subarray_helper()` has the recurrence relation The term\n",
        "$2T(n/2)$ comes from the *two* recursive calls that are each made on\n",
        "*half* the input, specifically on `nums[low, ..., mid]` and\n",
        "`nums[mid+1, ..., high]`. The term $\\Theta(n)$ comes from calling\n",
        "`max_crossing_subarray()` which runs in linear time. Solving this\n",
        "equation with the [master\n",
        "method](https://en.wikipedia.org/wiki/Master_theorem_(analysis_of_algorithms)),\n",
        "we find that\n",
        "\n",
        "**Space Complexity:** $O(1)$\n",
        "\n",
        "We only store constants like `low`, `high`, `left_low`, `left_high`,\n",
        "`left_sum`, etc. Note: this space complexity does not take into account\n",
        "the $O(log n)$ space used by the recursive stack.\n",
        "\n",
        "**The Algorithm:**"
      ],
      "id": "6c441c5e-f548-42e0-974c-1cc9e971b263"
    },
    {
      "cell_type": "code",
      "execution_count": 10,
      "metadata": {},
      "outputs": [],
      "source": [
        "def max_crossing_subarray(low, mid, high, nums):\n",
        "  \"\"\"Compute the maximum subarray that crosses the midpoint.\"\"\"\n",
        "    \n",
        "  # get largest left sum that ends at m, ie get largest sum of the form nums[i:mid+1] for some i\n",
        "  left_sum = -float('inf')\n",
        "  sum_ = 0\n",
        "  for i in range(mid, low - 1, -1):\n",
        "    sum_ += nums[i]\n",
        "    if sum_ > left_sum:\n",
        "      left_sum = sum_\n",
        "      max_left = i\n",
        "          \n",
        "  # get largest right sum that starts at m, ie get largest sum of the form nums[mid+1:j] for some j\n",
        "  right_sum = -float('inf')\n",
        "  sum_ = 0\n",
        "  for j in range(mid+1, high+1):\n",
        "    sum_ += nums[j]\n",
        "    if sum_ > right_sum:\n",
        "      right_sum = sum_\n",
        "      max_right = j\n",
        "  \n",
        "  return (max_left, max_right, left_sum + right_sum)"
      ],
      "id": "08520216-bafc-4813-ac76-92d899b18406"
    },
    {
      "cell_type": "code",
      "execution_count": 8,
      "metadata": {},
      "outputs": [],
      "source": [
        "def max_subarray_helper(low, high, nums):\n",
        "  \"\"\"Find the maximum subarray in nums[low, ..., high].\"\"\"\n",
        "\n",
        "  if low == high: # base case\n",
        "    return (low, high, nums[low])\n",
        "  \n",
        "  # compute the maximum subarray to left of mid, to the right of mid, and crossing mid\n",
        "  mid = low + (high - low) // 2\n",
        "  left_low, left_high, left_sum = max_subarray_helper(low, mid, nums)\n",
        "  right_low, right_high, right_sum = max_subarray_helper(mid + 1, high, nums)\n",
        "  cross_low, cross_high, cross_sum = max_crossing_subarray(low, mid, high, nums)\n",
        "  \n",
        "  if left_sum >= right_sum and left_sum >= cross_sum: # if left_sum is the biggest\n",
        "    return left_low, left_high, left_sum\n",
        "  if right_sum >= left_sum and right_sum >= cross_sum: # if right_sum is the biggest\n",
        "    return right_low, right_high, right_sum\n",
        "  return cross_low, cross_high, cross_sum"
      ],
      "id": "939b12d1-cd5e-4095-aea3-4fe60df0432b"
    },
    {
      "cell_type": "code",
      "execution_count": 9,
      "metadata": {},
      "outputs": [],
      "source": [
        "def max_subarray_div_and_conq(nums):  \n",
        "  \"\"\"Compute the maximum subarray with a divide and conquer technique.\"\"\"\n",
        "  \n",
        "  low, high = 0, len(nums) - 1\n",
        "  _, _, max_sum = max_subarray_helper(low, high, nums)\n",
        "  return max_sum"
      ],
      "id": "03e242c2-938b-4fef-8f91-1bf69d9f1b8d"
    },
    {
      "cell_type": "markdown",
      "metadata": {},
      "source": [
        "# Dynamic Programming\n",
        "\n",
        "**Idea:** If we already know the largest sum in `nums[0:i]`, then the\n",
        "largest sum in `nums[0:i+1]` is `nums[0:i] + nums[i]` if `nums[0:i]` is\n",
        "positive. If `nums[0:i]` is negative, adding it to `nums[i]` would just\n",
        "make it smaller, so the largest sum in `nums[0:i+1]` is just `nums[i]`.\n",
        "This idea naturally lends itself to dynamic programming. In particular,\n",
        "this problem has the recurrence:\n",
        "\n",
        "where $dp[i]$ is the maximum sum obtained from contigious subarrays in\n",
        "the first $i$ elements of `nums`. This recurrence relation can be\n",
        "written more succinctly as\n",
        "\n",
        "We will implement a bottom-up solution to this dynamic programming\n",
        "problem, meaning we compute the maximum sum in the first element of\n",
        "`nums`, the first two elements of `nums`, the first three elements of\n",
        "`nums`, etc. At each iteration, we compute the maximum sum seen so far.\n",
        "\n",
        "To compute the maximum subarray sum, simply compute $dp[len(nums)-1]$.\n",
        "\n",
        "**Time Complexity:** $O(n)$\n",
        "\n",
        "It takes constant time to compute a single entry in the table $dp$. And\n",
        "because there are $n$ entries in the table, it will take $O(n)$ time to\n",
        "fill in the entire table.\n",
        "\n",
        "**Space Complexity:** $O(n)$\n",
        "\n",
        "The table has $n$ entries so this algorithim take $O(n)$ space.\n",
        "\n",
        "**The Algorithm:**"
      ],
      "id": "c0815eed-ffc9-4631-96e5-14bacd2dbfa3"
    },
    {
      "cell_type": "code",
      "execution_count": null,
      "metadata": {},
      "outputs": [],
      "source": [
        "def max_subarray_dp(nums):\n",
        "  \"\"\"compute the maximum subarray with a dynamic programming technique\"\"\"\n",
        "\n",
        "  dp = [0] * (len(nums))\n",
        "  dp[0] = max_sum = nums[0]\n",
        "\n",
        "  for i in range(1, len(nums)):\n",
        "    dp[i] = nums[i] + max(dp[i-1], 0)\n",
        "    max_sum = max(max_sum, dp[i])\n",
        "  return max_sum"
      ],
      "id": "90040888-97c0-4582-9303-c8619a41a9c8"
    },
    {
      "cell_type": "markdown",
      "metadata": {},
      "source": [
        "# Kadane’s Algorithm\n",
        "\n",
        "**Idea:** Kadane’s algorithm is the exact same as the dynamic\n",
        "programming solution but it uses $O(1)$ space instead of $O(n)$ space.\n",
        "Recall the recurrence relation for this problem is A closer analysis\n",
        "reveals that to compute $dp[i]$, we only need $dp[i-1]$. We don’t need\n",
        "any of the other previous entries of $dp$. This means we do not to store\n",
        "the entire $dp$ table (which takes $O(n)$ space) and instead can store\n",
        "just $dp[i-1]$ as `current_sum`. This is Kadane’s algorithm.\n",
        "\n",
        "Again, to compute the maximum subarray sum, simply compute\n",
        "$dp[len(nums)-1]$.\n",
        "\n",
        "**Time Complexity:** $O(n)$\n",
        "\n",
        "We must compute $n$ different values of $dp$.\n",
        "\n",
        "**Space Complexity:** $O(1)$\n",
        "\n",
        "We only store only the previous sum to compute the current sum.\n",
        "\n",
        "**The Algorithm:**"
      ],
      "id": "83710fd2-a974-4227-b71f-706b90534ebe"
    },
    {
      "cell_type": "code",
      "execution_count": null,
      "metadata": {},
      "outputs": [],
      "source": [
        "def max_subarray_kadane(nums):\n",
        "  \"\"\"compute the maximum subarray with the Kadane's algorithm technique\"\"\"\n",
        "  \n",
        "  max_sum = current_sum = nums[0]\n",
        "  for i in range(1, len(nums)):\n",
        "    current_sum = nums[i] + max(current_sum, 0)\n",
        "    max_sum = max(max_sum, current_sum)\n",
        "  return max_sum"
      ],
      "id": "f4d4f5fd-dbe9-46c0-b8eb-5b63c8ae72a6"
    },
    {
      "cell_type": "markdown",
      "metadata": {},
      "source": [
        "# Sliding Window\n",
        "\n",
        "**Idea:** Use two pointers `low` and `high` to maintain a sliding window\n",
        "across the array. At every iteration, move `high` one to right and add\n",
        "the new element to the running sum `sum_`. If the sum is less than the\n",
        "new element `nums[high]`, then we would get a higher sum just by\n",
        "starting our sum from `nums[high]`. So we want to keep on moving the\n",
        "left pointer until `sum_ < nums[high]` is no longer true; this is\n",
        "expressed with a while loop. (A closer look reveals that if we ever have\n",
        "`sum_ < nums[high]` and wish to start our sum from `nums[high]`, we can\n",
        "immediately move the left pointer to `nums[high]` if\n",
        "`sum_ < nums[high]`, no need for a while loop; this optimized version is\n",
        "commented out. Also, at every iteration we record the maximum sum so\n",
        "once we’re done iterating through the array, we can just return the\n",
        "maximum sum.\n",
        "\n",
        "**Time Complexity:** $O(n)$\n",
        "\n",
        "We iterate through the entire array once by moving two pointers.\n",
        "\n",
        "**Space Complexity:** $O(1)$\n",
        "\n",
        "Trivial.\n",
        "\n",
        "**The Algorithm:**"
      ],
      "id": "290c967b-da51-4d3c-b645-f0681a35e04b"
    },
    {
      "cell_type": "code",
      "execution_count": null,
      "metadata": {},
      "outputs": [],
      "source": [
        "def max_subarray_sliding_window(nums):\n",
        "  \"\"\"compute the maximum subarray with a sliding window technique\"\"\"\n",
        "\n",
        "  low, sum_ = 0, 0\n",
        "  max_sum = -float('inf')\n",
        "  \n",
        "  for high in range(len(nums)):\n",
        "    sum_ += nums[high]\n",
        "    \n",
        "    while sum_ < nums[high]:\n",
        "      sum_ -= nums[low]\n",
        "      low += 1\n",
        "\n",
        "    # optimized version\n",
        "    # if sum_ < nums[high]:\n",
        "    #   sum_ = nums[high]\n",
        "    #   low = high\n",
        "  \n",
        "    max_sum = max(max_sum, sum_)\n",
        "  return max_sum"
      ],
      "id": "c866b717-1c6c-40f9-a446-9556ae858377"
    },
    {
      "cell_type": "markdown",
      "metadata": {},
      "source": [
        "# Comparison\n",
        "\n",
        "**Time & Space Complexity:** We can easily analyse the space and runtime\n",
        "complexity of each algorithm.\n",
        "\n",
        "| Technique           | Runtime     | Space  |\n",
        "|---------------------|-------------|--------|\n",
        "| Brute Force         | $O(n^2)$    | $O(1)$ |\n",
        "| Divide & Conquer    | $O(n logn)$ | $O(1)$ |\n",
        "| Sliding Window      | $O(n)$      | $O(1)$ |\n",
        "| Dynamic Programming | $O(n)$      | $O(n)$ |\n",
        "| Kadane’s Algorithm  | $O(n)$      | $O(1)$ |\n",
        "\n",
        "**Sliding Window & Kadane’s Algorithm:** If you take a closer look, you\n",
        "can see that Sliding Window and Kadane’s Algorithm are essentially the\n",
        "same exact algorithm but implemented differently.\n",
        "\n",
        "**Recurrence Relations:** Note that DP/Kadane’s algorithm can be\n",
        "expressed by the recurrence relation\n",
        "\n",
        "but the divide and conquer technique can be expressed by the recurrence\n",
        "relation\n",
        "\n",
        "Both recurrences display optimal substructure, meaning the solution to\n",
        "the original problem can be achieved by finding the optimal solution to\n",
        "smaller subproblems. Yet there are differences. The first recurrence is\n",
        "1D while the second recurrence is 2D. This explains why the first\n",
        "recurrence results in an $O(n)$ algorithm and the second recurrence\n",
        "results in an $O(n log n )$ algorithm.\n",
        "\n",
        "# Timing Maximum Subarray Algorithms\n",
        "\n",
        "The table above states the worst case runtime of various maximum\n",
        "subarray algorithms. However, how many seconds does it actually take to\n",
        "compute the maximum subarray sum for each algorithm? How much faster is\n",
        "one algorithm than another?\n",
        "\n",
        "Below I run the five different maximum subarray algorithms and time\n",
        "their runtime on inputs of different sizes. Every element of the input\n",
        "array is randomly (uniformly) choosen from the interval $[-100, 100]$."
      ],
      "id": "06e936e5-e6cb-4c9c-99b4-9021f98a5cf2"
    },
    {
      "cell_type": "code",
      "execution_count": null,
      "metadata": {
        "outputId": "948a05ed-1015-413b-ce40-feaae326a17c"
      },
      "outputs": [
        {
          "output_type": "display_data",
          "metadata": {},
          "data": {
            "image/png": "[encoded data removed]"
          }
        }
      ],
      "source": [],
      "id": "5976385b-e083-408e-83cd-c68ceddaa614"
    },
    {
      "cell_type": "markdown",
      "metadata": {},
      "source": [
        "Note that, as expected, the $O(n^2)$ brute force algorithm is the\n",
        "slowest, the $O(n log n)$ divide and conquer algorithm is the second\n",
        "slowest, and the $O(n)$ sliding window algorithm, (non-constant space)\n",
        "dynamic programming algorithm, and Kadane’s algorithm are the fastest.\n",
        "This emperically confirms what we showed via theory.\n",
        "\n",
        "# Works Cited\n",
        "\n",
        "1.  Cormen, Thomas H, et al. Introduction to Algorithms. 3rd ed.,\n",
        "    Cambridge (Massachusetts) ; London, MIT Press, 2007, pp. 68–74.\n",
        "2.  Fabré, Maarten. “Plot Timings for a Range of Inputs.” Code Review\n",
        "    Stack Exchange, 9 June 2017,\n",
        "    codereview.stackexchange.com/a/165362/260966. Accessed 25 July 2022.\n",
        "3.  Leetcode. “Maximum Subarray.” Leetcode.com,\n",
        "    leetcode.com/problems/maximum-subarray/discuss/. Accessed 25 July\n",
        "    2022."
      ],
      "id": "510fcec2-8ca9-4b50-812e-eb8ee8addcca"
    }
  ],
  "nbformat": 4,
  "nbformat_minor": 5,
  "metadata": {
    "colab": {
      "name": "2022-08-07-maximum-subarray-sum.ipynb",
      "collapsed_sections": [],
      "provenance": []
    },
    "kernelspec": {
      "name": "python3",
      "display_name": "Python 3",
      "language": "python"
    },
    "language_info": {
      "name": "python",
      "codemirror_mode": {
        "name": "ipython",
        "version": "3"
      },
      "file_extension": ".py",
      "mimetype": "text/x-python",
      "nbconvert_exporter": "python",
      "pygments_lexer": "ipython3",
      "version": "3.10.6"
    }
  }
}