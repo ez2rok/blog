{
  "cells": [
    {
      "cell_type": "markdown",
      "metadata": {},
      "source": [
        "# Post With Code\n",
        "\n",
        "Harlow Malloc  \n",
        "2023-08-17\n",
        "\n",
        "This is a post with executable code.\n",
        "\n",
        "``` python\n",
        "1+1\n",
        "```"
      ],
      "id": "62fffd96-b8f4-4325-96ad-9528632a3970"
    }
  ],
  "nbformat": 4,
  "nbformat_minor": 5,
  "metadata": {
    "kernelspec": {
      "display_name": "Python 3",
      "language": "python",
      "name": "python3"
    }
  }
}