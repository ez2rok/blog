{
  "cells": [
    {
      "cell_type": "markdown",
      "metadata": {},
      "source": [
        "# Post With Code\n",
        "\n",
        "Harlow Malloc  \n",
        "2023-08-17\n",
        "\n",
        "This is a post with executable code.\n",
        "\n",
        "``` python\n",
        "1+1\n",
        "```"
      ],
      "id": "3cbc4e20-50b6-4fb7-b0df-150ed7751b1b"
    }
  ],
  "nbformat": 4,
  "nbformat_minor": 5,
  "metadata": {
    "kernelspec": {
      "display_name": "Python 3",
      "language": "python",
      "name": "python3"
    }
  }
}